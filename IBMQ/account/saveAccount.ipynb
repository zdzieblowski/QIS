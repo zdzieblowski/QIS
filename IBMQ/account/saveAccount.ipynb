{
 "cells": [
  {
   "cell_type": "code",
   "execution_count": 5,
   "id": "706c1575",
   "metadata": {},
   "outputs": [],
   "source": [
    "import json\n",
    "from qiskit_ibm_runtime import QiskitRuntimeService\n",
    "\n",
    "with open(\"config.json\") as file:\n",
    "    config = json.load(file)\n",
    "    \n",
    "    service = QiskitRuntimeService.save_account(\n",
    "        channel=\"ibm_cloud\",\n",
    "        token=config[\"token\"],\n",
    "        instance=config[\"instance\"],\n",
    "        set_as_default=True,\n",
    "        overwrite=True\n",
    ")"
   ]
  }
 ],
 "metadata": {
  "kernelspec": {
   "display_name": ".venv",
   "language": "python",
   "name": "python3"
  },
  "language_info": {
   "codemirror_mode": {
    "name": "ipython",
    "version": 3
   },
   "file_extension": ".py",
   "mimetype": "text/x-python",
   "name": "python",
   "nbconvert_exporter": "python",
   "pygments_lexer": "ipython3",
   "version": "3.12.3"
  }
 },
 "nbformat": 4,
 "nbformat_minor": 5
}
